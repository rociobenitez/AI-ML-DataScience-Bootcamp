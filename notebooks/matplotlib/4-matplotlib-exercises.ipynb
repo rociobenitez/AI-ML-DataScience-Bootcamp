{
 "cells": [
  {
   "cell_type": "markdown",
   "metadata": {},
   "source": [
    "# Práctica de Matplotlib 📊\n",
    "\n",
    "Este cuaderno ofrece un conjunto de ejercicios para diferentes tareas con Matplotlib.\n",
    "\n",
    "Cabe señalar que puede haber más de una forma diferente de responder a una pregunta o completar un ejercicio.\n",
    "\n",
    "Las diferentes tareas estarán detalladas por comentarios o texto.\n",
    "\n",
    "Para más referencias y recursos, se recomienda consultar la [documentación de Matplotlib](https://matplotlib.org/stable/users/index.html)."
   ]
  },
  {
   "cell_type": "code",
   "execution_count": 1,
   "metadata": {},
   "outputs": [],
   "source": [
    "# Import the pyplot module from matplotlib as plt and make sure \n",
    "# plots appear in the notebook using '%matplotlib inline'\n"
   ]
  },
  {
   "cell_type": "code",
   "execution_count": 2,
   "metadata": {},
   "outputs": [],
   "source": [
    "# Create a simple plot using plt.plot()\n"
   ]
  },
  {
   "cell_type": "code",
   "execution_count": 3,
   "metadata": {},
   "outputs": [],
   "source": [
    "# Plot a single Python list\n"
   ]
  },
  {
   "cell_type": "code",
   "execution_count": 4,
   "metadata": {},
   "outputs": [],
   "source": [
    "# Create two lists, one called X, one called y, each with 5 numbers in them\n"
   ]
  },
  {
   "cell_type": "code",
   "execution_count": 5,
   "metadata": {},
   "outputs": [],
   "source": [
    "# Plot X & y (the lists you've created)\n"
   ]
  },
  {
   "cell_type": "markdown",
   "metadata": {},
   "source": [
    "Hay otra forma de crear gráficos con Matplotlib, se conoce como el método orientado a objetos (OO). Probémoslo."
   ]
  },
  {
   "cell_type": "code",
   "execution_count": 6,
   "metadata": {},
   "outputs": [],
   "source": [
    "# Create a plot using plt.subplots()\n"
   ]
  },
  {
   "cell_type": "code",
   "execution_count": 7,
   "metadata": {},
   "outputs": [],
   "source": [
    "# Create a plot using plt.subplots() and then add X & y on the axes\n"
   ]
  },
  {
   "cell_type": "markdown",
   "metadata": {},
   "source": [
    "Ahora intentemos un pequeño flujo de trabajo con matplotlib."
   ]
  },
  {
   "cell_type": "code",
   "execution_count": 8,
   "metadata": {},
   "outputs": [],
   "source": [
    "# Import and get matplotlib ready\n",
    "\n",
    "\n",
    "# Prepare data (create two lists of 5 numbers, X & y)\n",
    "\n",
    "\n",
    "# Setup figure and axes using plt.subplots()\n",
    "\n",
    "\n",
    "# Add data (X, y) to axes\n",
    "\n",
    "\n",
    "# Customize plot by adding a title, xlabel and ylabel\n",
    "\n",
    "\n",
    "# Save the plot to file using fig.savefig()\n"
   ]
  },
  {
   "cell_type": "markdown",
   "metadata": {},
   "source": [
    "Está bien, este es un gráfico de líneas simple, ¿qué tal algo un poco diferente?\n",
    "\n",
    "Para ayudarnos, importaremos NumPy."
   ]
  },
  {
   "cell_type": "code",
   "execution_count": 9,
   "metadata": {},
   "outputs": [],
   "source": [
    "# Import NumPy as np\n"
   ]
  },
  {
   "cell_type": "code",
   "execution_count": 10,
   "metadata": {},
   "outputs": [],
   "source": [
    "# Create an array of 100 evenly spaced numbers between 0 and 100 using NumPy and save it to variable X\n"
   ]
  },
  {
   "cell_type": "code",
   "execution_count": 11,
   "metadata": {},
   "outputs": [],
   "source": [
    "# Create a plot using plt.subplots() and plot X versus X^2 (X squared)\n"
   ]
  },
  {
   "cell_type": "markdown",
   "metadata": {},
   "source": [
    "Comenzaremos con diagramas de dispersión."
   ]
  },
  {
   "cell_type": "code",
   "execution_count": 12,
   "metadata": {},
   "outputs": [],
   "source": [
    "# Create a scatter plot of X versus the exponential of X (np.exp(X))\n"
   ]
  },
  {
   "cell_type": "code",
   "execution_count": 13,
   "metadata": {},
   "outputs": [],
   "source": [
    "# Create a scatter plot of X versus np.sin(X)\n"
   ]
  },
  {
   "cell_type": "markdown",
   "metadata": {},
   "source": [
    "¿Qué tal si probamos otro tipo de gráfico? Esta vez veamos un gráfico de barras. Primero, crearemos algunos datos."
   ]
  },
  {
   "cell_type": "code",
   "execution_count": 14,
   "metadata": {},
   "outputs": [],
   "source": [
    "# Create a Python dictionary of 3 of your favourite foods with \n",
    "# The keys of the dictionary should be the food name and the values their price\n"
   ]
  },
  {
   "cell_type": "code",
   "execution_count": 15,
   "metadata": {},
   "outputs": [],
   "source": [
    "# Create a bar graph where the x-axis is the keys of the dictionary\n",
    "# and the y-axis is the values of the dictionary\n",
    "\n",
    "\n",
    "# Add a title, xlabel and ylabel to the plot\n"
   ]
  },
  {
   "cell_type": "code",
   "execution_count": 16,
   "metadata": {},
   "outputs": [],
   "source": [
    "# Make the same plot as above, except this time make the bars go horizontal\n"
   ]
  },
  {
   "cell_type": "markdown",
   "metadata": {},
   "source": [
    "Toda esta planificación de comida me está dando hambre. Pero tenemos un par de gráficos por hacer.\n",
    "\n",
    "Veamos un histograma."
   ]
  },
  {
   "cell_type": "code",
   "execution_count": 17,
   "metadata": {},
   "outputs": [],
   "source": [
    "# Create a random NumPy array of 1000 normally distributed numbers using NumPy and save it to X\n",
    "\n",
    "\n",
    "# Create a histogram plot of X\n"
   ]
  },
  {
   "cell_type": "code",
   "execution_count": 18,
   "metadata": {},
   "outputs": [],
   "source": [
    "# Create a NumPy array of 1000 random numbers and save it to X\n",
    "\n",
    "\n",
    "# Create a histogram plot of X\n"
   ]
  },
  {
   "cell_type": "markdown",
   "metadata": {},
   "source": [
    "Observe cómo las distribuciones (dispersión de datos) son diferentes. ¿Por qué difieren?\n",
    "\n",
    "¿Qué más puedes averiguar sobre la distribución normal?\n",
    "\n",
    "¿Puedes pensar en otros tipos de datos que puedan estar normalmente distribuidos?\n",
    "\n",
    "Estas preguntas no están directamente relacionadas con la representación gráfica o Matplotlib, pero son útiles para reflexionar.\n",
    "\n",
    "Ahora intentemos hacer algunos subgráficos. Un subgráfico es otro nombre para una figura con múltiples gráficos en ella."
   ]
  },
  {
   "cell_type": "code",
   "execution_count": 19,
   "metadata": {},
   "outputs": [],
   "source": [
    "# Create an empty subplot with 2 rows and 2 columns (4 subplots total)\n"
   ]
  },
  {
   "cell_type": "markdown",
   "metadata": {},
   "source": [
    "Observe cómo el subplot tiene múltiples figuras. Ahora agreguemos datos a cada eje."
   ]
  },
  {
   "cell_type": "code",
   "execution_count": 20,
   "metadata": {},
   "outputs": [],
   "source": [
    "# Create the same plot as above with 2 rows and 2 columns and figsize of (10, 5)\n",
    "\n",
    "\n",
    "# Plot X versus X/2 on the top left axes\n",
    "\n",
    "\n",
    "# Plot a scatter plot of 10 random numbers on each axis on the top right subplot\n",
    "\n",
    "\n",
    "# Plot a bar graph of the favourite food keys and values on the bottom left subplot\n",
    "\n",
    "\n",
    "# Plot a histogram of 1000 random normally distributed numbers on the bottom right subplot\n"
   ]
  },
  {
   "cell_type": "markdown",
   "metadata": {},
   "source": [
    "Vaya. Hay mucho de lo que hablar allí.\n",
    "\n",
    "Ahora hemos visto cómo graficar con Matplotlib y datos directamente. Practiquemos usando Matplotlib para graficar con pandas.\n",
    "\n",
    "Primero necesitaremos importar pandas y crear un DataFrame con el que trabajar."
   ]
  },
  {
   "cell_type": "code",
   "execution_count": 21,
   "metadata": {},
   "outputs": [],
   "source": [
    "# Import pandas as pd\n"
   ]
  },
  {
   "cell_type": "code",
   "execution_count": 22,
   "metadata": {},
   "outputs": [],
   "source": [
    "# Import the '../data/car-sales.csv' into a DataFame called car_sales and view\n"
   ]
  },
  {
   "cell_type": "code",
   "execution_count": 23,
   "metadata": {},
   "outputs": [],
   "source": [
    "# Try to plot the 'Price' column using the plot() function\n"
   ]
  },
  {
   "cell_type": "markdown",
   "metadata": {},
   "source": [
    "¿Por qué no funciona?\n",
    "\n",
    "Consejo: No son datos numéricos.\n",
    "\n",
    "En el proceso de convertirlo a datos numéricos, creemos otra columna que sume el total de ventas y otra que muestre en qué fecha se vendió el coche.\n",
    "\n",
    "Consejo: Para agregar una columna de manera acumulativa, busca la función cumsum(). Y para crear una columna de fechas, busca la función date_range()."
   ]
  },
  {
   "cell_type": "code",
   "execution_count": 24,
   "metadata": {},
   "outputs": [],
   "source": [
    "# Remove the symbols, the final two numbers from the 'Price' column and convert it to numbers\n"
   ]
  },
  {
   "cell_type": "code",
   "execution_count": 25,
   "metadata": {},
   "outputs": [],
   "source": [
    "# Add a column called 'Total Sales' to car_sales which cumulatively adds the 'Price' column\n",
    "\n",
    "\n",
    "# Add a column called 'Sale Date' which lists a series of successive dates starting from today (your today)\n",
    "\n",
    "# View the car_sales DataFrame\n"
   ]
  },
  {
   "cell_type": "markdown",
   "metadata": {},
   "source": [
    "Ahora que tenemos una columna numérica (`Total Sales`) y una columna de fechas (`Sale Date`), vamos a visualizarlas."
   ]
  },
  {
   "cell_type": "code",
   "execution_count": 26,
   "metadata": {},
   "outputs": [],
   "source": [
    "# Use the plot() function to plot the 'Sale Date' column versus the 'Total Sales' column\n"
   ]
  },
  {
   "cell_type": "code",
   "execution_count": 27,
   "metadata": {},
   "outputs": [],
   "source": [
    "# Convert the 'Price' column to the integers\n",
    "\n",
    "\n",
    "# Create a scatter plot of the 'Odometer (KM)' and 'Price' column using the plot() function\n"
   ]
  },
  {
   "cell_type": "code",
   "execution_count": 28,
   "metadata": {},
   "outputs": [],
   "source": [
    "# Create a NumPy array of random numbers of size (10, 4) and save it to X\n",
    "\n",
    "\n",
    "# Turn the NumPy array X into a DataFrame with columns called ['a', 'b', 'c', 'd']\n",
    "\n",
    "\n",
    "# Create a bar graph of the DataFrame\n"
   ]
  },
  {
   "cell_type": "code",
   "execution_count": 29,
   "metadata": {},
   "outputs": [],
   "source": [
    "# Create a bar graph of the 'Make' and 'Odometer (KM)' columns in the car_sales DataFrame\n"
   ]
  },
  {
   "cell_type": "code",
   "execution_count": 30,
   "metadata": {},
   "outputs": [],
   "source": [
    "# Create a histogram of the 'Odometer (KM)' column\n"
   ]
  },
  {
   "cell_type": "code",
   "execution_count": 31,
   "metadata": {},
   "outputs": [],
   "source": [
    "# Create a histogram of the 'Price' column with 20 bins\n"
   ]
  },
  {
   "cell_type": "markdown",
   "metadata": {},
   "source": [
    "Ahora hemos visto algunos ejemplos de graficar directamente desde DataFrames utilizando el conjunto de datos `car_sales`.\n",
    "\n",
    "Intentemos usar un conjunto de datos diferente."
   ]
  },
  {
   "cell_type": "code",
   "execution_count": 32,
   "metadata": {},
   "outputs": [],
   "source": [
    "# Import \"../data/heart-disease.csv\" and save it to the variable \"heart_disease\"\n"
   ]
  },
  {
   "cell_type": "code",
   "execution_count": 33,
   "metadata": {},
   "outputs": [],
   "source": [
    "# View the first 10 rows of the heart_disease DataFrame\n"
   ]
  },
  {
   "cell_type": "code",
   "execution_count": 34,
   "metadata": {},
   "outputs": [],
   "source": [
    "# Create a histogram of the \"age\" column with 50 bins\n"
   ]
  },
  {
   "cell_type": "code",
   "execution_count": 35,
   "metadata": {},
   "outputs": [],
   "source": [
    "# Call plot.hist() on the heart_disease DataFrame and toggle the\n",
    "# \"subplots\" parameter to True\n"
   ]
  },
  {
   "cell_type": "markdown",
   "metadata": {},
   "source": [
    "Ese gráfico se ve bastante comprimido. Cambiemos el tamaño de la figura."
   ]
  },
  {
   "cell_type": "code",
   "execution_count": 36,
   "metadata": {},
   "outputs": [],
   "source": [
    "# Call the same line of code from above except change the \"figsize\" parameter\n",
    "# to be (10, 30)\n"
   ]
  },
  {
   "cell_type": "markdown",
   "metadata": {},
   "source": [
    "Ahora intentemos comparar dos variables con respecto a la variable objetivo.\n",
    "\n",
    "Más específicamente, veremos cómo la edad y el colesterol combinados afectan la variable objetivo en **pacientes mayores de 50 años**."
   ]
  },
  {
   "cell_type": "code",
   "execution_count": 37,
   "metadata": {},
   "outputs": [],
   "source": [
    "# Replicate the above plot in whichever way you see fit\n",
    "\n",
    "# Note: The method below is only one way of doing it, yours might be\n",
    "# slightly different\n",
    "\n",
    "# Create DataFrame with patients over 50 years old\n",
    "\n",
    "\n",
    "# Create the plot\n",
    "\n",
    "\n",
    "# Plot the data\n",
    "\n",
    "\n",
    "# Customize the plot\n",
    "\n",
    "\n",
    "# Add a meanline\n"
   ]
  },
  {
   "cell_type": "markdown",
   "metadata": {},
   "source": [
    "Hermoso, ahora has creado un gráfico de dos variables diferentes, cambiemos el estilo."
   ]
  },
  {
   "cell_type": "code",
   "execution_count": 38,
   "metadata": {},
   "outputs": [],
   "source": [
    "# Check what styles are available under plt\n"
   ]
  },
  {
   "cell_type": "code",
   "execution_count": 39,
   "metadata": {},
   "outputs": [],
   "source": [
    "# Change the style to use \"seaborn-whitegrid\"\n"
   ]
  },
  {
   "cell_type": "markdown",
   "metadata": {},
   "source": [
    "Ahora que se ha cambiado el estilo, volvamos a graficar la misma figura de arriba y veamos cómo se ve."
   ]
  },
  {
   "cell_type": "code",
   "execution_count": 40,
   "metadata": {},
   "outputs": [],
   "source": [
    "# Reproduce the same figure as above with the \"seaborn-whitegrid\" style\n",
    "\n",
    "# Create the plot\n",
    "\n",
    "\n",
    "# Plot the data\n",
    "\n",
    "\n",
    "# Customize the plot\n",
    "\n",
    "\n",
    "# Add a meanline\n"
   ]
  },
  {
   "cell_type": "markdown",
   "metadata": {},
   "source": [
    "Maravilloso, has cambiado el estilo de los gráficos y la figura se ve diferente, pero los puntos no son de un muy buen color.\n",
    "\n",
    "Cambiemos el parámetro `cmap` de `scatter()` así como el parámetro `color` de `axhline()` para solucionarlo."
   ]
  },
  {
   "cell_type": "code",
   "execution_count": 41,
   "metadata": {},
   "outputs": [],
   "source": [
    "# Replot the same figure as above except change the \"cmap\" parameter\n",
    "# of scatter() to \"winter\"\n",
    "# Also change the \"color\" parameter of axhline() to \"red\"\n",
    "\n",
    "# Create the plot\n",
    "\n",
    "\n",
    "# Plot the data\n",
    "\n",
    "\n",
    "# Customize the plot\n",
    "\n",
    "\n",
    "# Add a meanline\n"
   ]
  },
  {
   "cell_type": "markdown",
   "metadata": {},
   "source": [
    "¡Genial! Ahora nuestra figura tiene un esquema de colores mejorado, guardémosla en un archivo."
   ]
  },
  {
   "cell_type": "code",
   "execution_count": 42,
   "metadata": {},
   "outputs": [],
   "source": [
    "# Save the current figure using savefig(), the file name can be anything you want\n"
   ]
  },
  {
   "cell_type": "code",
   "execution_count": 43,
   "metadata": {},
   "outputs": [],
   "source": [
    "# Reset the figure by calling plt.subplots()\n"
   ]
  },
  {
   "cell_type": "markdown",
   "metadata": {},
   "source": [
    "## Extensiones\n",
    "\n",
    "Para más ejercicios, consulta la [página de tutoriales de Matplotlib](https://matplotlib.org/stable/tutorials/index.html). Una buena práctica sería leerlo todo y, para las partes que encuentres interesantes, añadirlas al final de este cuaderno.\n",
    "\n",
    "El siguiente lugar al que podrías ir es la [página de Stack Overflow para las preguntas y respuestas más relevantes sobre Matplotlib](https://stackoverflow.com/questions/tagged/matplotlib?sort=MostVotes&edited=true). A menudo, encontrarás algunas de las funciones de Matplotlib más comunes y útiles aquí. ¡No olvides experimentar con los filtros de Stack Overflow! Es probable que encuentres algo útil aquí.\n",
    "\n",
    "Finalmente, como siempre, recuerda que la mejor manera de aprender algo nuevo es intentarlo. Y probarlo sin descanso. Siempre pregúntate: \"¿hay una mejor manera de visualizar estos datos para que sea más fácil de entender?\""
   ]
  }
 ],
 "metadata": {
  "kernelspec": {
   "display_name": "Python 3 (ipykernel)",
   "language": "python",
   "name": "python3"
  },
  "language_info": {
   "codemirror_mode": {
    "name": "ipython",
    "version": 3
   },
   "file_extension": ".py",
   "mimetype": "text/x-python",
   "name": "python",
   "nbconvert_exporter": "python",
   "pygments_lexer": "ipython3",
   "version": "3.12.7"
  }
 },
 "nbformat": 4,
 "nbformat_minor": 4
}
