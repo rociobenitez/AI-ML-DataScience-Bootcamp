{
 "cells": [
  {
   "cell_type": "markdown",
   "id": "70f3cfaa-66ea-47bc-ba7f-8e85287cd0b4",
   "metadata": {},
   "source": [
    "## Pasar imágenes a Arrays de NumPy"
   ]
  },
  {
   "cell_type": "markdown",
   "id": "14b3a12f-9819-44de-8db9-4537d7ad4082",
   "metadata": {},
   "source": [
    "<img src=\"../../assets/section-5/panda.jpg\" width=600>"
   ]
  },
  {
   "cell_type": "code",
   "execution_count": 1,
   "id": "2de8726e-3783-49a8-8ba6-a614bffe5a0f",
   "metadata": {},
   "outputs": [],
   "source": [
    "# Pasar una imagen a un array de NumPy\n",
    "from matplotlib.image import imread\n",
    "\n",
    "panda = imread(\"../../assets/section-5/panda.jpg\")"
   ]
  },
  {
   "cell_type": "code",
   "execution_count": 2,
   "id": "7937c526-adb1-47e7-86fe-1dc353982ea9",
   "metadata": {},
   "outputs": [
    {
     "data": {
      "text/plain": [
       "numpy.ndarray"
      ]
     },
     "execution_count": 2,
     "metadata": {},
     "output_type": "execute_result"
    }
   ],
   "source": [
    "type(panda)"
   ]
  },
  {
   "cell_type": "code",
   "execution_count": 3,
   "id": "1511da98-a005-4651-9802-85e23c922892",
   "metadata": {},
   "outputs": [
    {
     "data": {
      "text/plain": [
       "(1020600, (486, 700, 3), 3)"
      ]
     },
     "execution_count": 3,
     "metadata": {},
     "output_type": "execute_result"
    }
   ],
   "source": [
    "panda.size, panda.shape, panda.ndim"
   ]
  },
  {
   "cell_type": "markdown",
   "id": "832f2fc1-14e0-434b-a712-de8cfac1ecf4",
   "metadata": {},
   "source": [
    "Cuando la imagen se carga con `imread`, se convierte en un array 3D donde:\n",
    "- El primer eje representa las filas (alto de la imagen).\n",
    "- El segundo eje representa las columnas (ancho de la imagen).\n",
    "- El tercer eje representa los canales de color (por ejemplo, RGB con 3 canales)."
   ]
  },
  {
   "cell_type": "code",
   "execution_count": 4,
   "id": "0d679739-5f2a-4c84-80cd-8ec4ff0c47bb",
   "metadata": {},
   "outputs": [
    {
     "data": {
      "text/plain": [
       "array([[[111, 122,  80],\n",
       "        [112, 123,  81],\n",
       "        [112, 123,  81],\n",
       "        ...,\n",
       "        [128, 146,  96],\n",
       "        [127, 145,  93],\n",
       "        [126, 145,  90]],\n",
       "\n",
       "       [[110, 123,  80],\n",
       "        [110, 123,  80],\n",
       "        [110, 123,  80],\n",
       "        ...,\n",
       "        [128, 146,  96],\n",
       "        [127, 145,  93],\n",
       "        [126, 144,  92]],\n",
       "\n",
       "       [[112, 125,  81],\n",
       "        [112, 125,  81],\n",
       "        [109, 125,  80],\n",
       "        ...,\n",
       "        [129, 147,  97],\n",
       "        [128, 146,  96],\n",
       "        [127, 145,  93]],\n",
       "\n",
       "       [[115, 131,  84],\n",
       "        [114, 130,  83],\n",
       "        [112, 130,  82],\n",
       "        ...,\n",
       "        [131, 149, 101],\n",
       "        [130, 148,  98],\n",
       "        [129, 147,  97]]], dtype=uint8)"
      ]
     },
     "execution_count": 4,
     "metadata": {},
     "output_type": "execute_result"
    }
   ],
   "source": [
    "panda[:4]"
   ]
  },
  {
   "cell_type": "markdown",
   "id": "980f37bd-6430-4921-881a-8438c4ade8da",
   "metadata": {},
   "source": [
    "#### Probamos con otra imagen"
   ]
  },
  {
   "cell_type": "markdown",
   "id": "cfe5bfc4-b25f-406a-8d64-5e233b84f2d7",
   "metadata": {},
   "source": [
    "<img src=\"../../assets/section-5/mango.jpg\" width=600>"
   ]
  },
  {
   "cell_type": "code",
   "execution_count": 5,
   "id": "f7b6c641-16a9-4d9a-9f54-70e3c0c7753a",
   "metadata": {},
   "outputs": [],
   "source": [
    "mango = imread(\"../../assets/section-5/mango.jpg\")"
   ]
  },
  {
   "cell_type": "code",
   "execution_count": 6,
   "id": "2191708e-e955-456d-b6b7-10f9bcfea92c",
   "metadata": {},
   "outputs": [
    {
     "data": {
      "text/plain": [
       "(136323072, (5504, 8256, 3), 3)"
      ]
     },
     "execution_count": 6,
     "metadata": {},
     "output_type": "execute_result"
    }
   ],
   "source": [
    "mango.size, mango.shape, mango.ndim"
   ]
  },
  {
   "cell_type": "code",
   "execution_count": 7,
   "id": "2f6bc82c-45c0-49ce-b31e-ca7e2da13cbe",
   "metadata": {},
   "outputs": [
    {
     "data": {
      "text/plain": [
       "array([[[123, 117, 121],\n",
       "        [126, 120, 120],\n",
       "        [126, 121, 117],\n",
       "        ...,\n",
       "        [138, 139, 134],\n",
       "        [138, 139, 134],\n",
       "        [138, 139, 133]],\n",
       "\n",
       "       [[122, 120, 121],\n",
       "        [125, 121, 120],\n",
       "        [123, 119, 116],\n",
       "        ...,\n",
       "        [140, 141, 136],\n",
       "        [140, 141, 136],\n",
       "        [139, 140, 135]]], dtype=uint8)"
      ]
     },
     "execution_count": 7,
     "metadata": {},
     "output_type": "execute_result"
    }
   ],
   "source": [
    "mango[:2]"
   ]
  },
  {
   "cell_type": "code",
   "execution_count": 8,
   "id": "caa911c8-32c4-4e68-9d47-cd075f97a548",
   "metadata": {},
   "outputs": [
    {
     "data": {
      "text/plain": [
       "array([123, 117, 121], dtype=uint8)"
      ]
     },
     "execution_count": 8,
     "metadata": {},
     "output_type": "execute_result"
    }
   ],
   "source": [
    "mango[0, 0] # Valor del píxel en la esquina superior izquierda"
   ]
  },
  {
   "cell_type": "code",
   "execution_count": 9,
   "id": "94db195a-d8fb-4e67-bc0a-a024905c52b5",
   "metadata": {},
   "outputs": [
    {
     "data": {
      "text/plain": [
       "array([121, 120, 118], dtype=uint8)"
      ]
     },
     "execution_count": 9,
     "metadata": {},
     "output_type": "execute_result"
    }
   ],
   "source": [
    "mango[2, 3]"
   ]
  }
 ],
 "metadata": {
  "kernelspec": {
   "display_name": "Python (env)",
   "language": "python",
   "name": "env"
  },
  "language_info": {
   "codemirror_mode": {
    "name": "ipython",
    "version": 3
   },
   "file_extension": ".py",
   "mimetype": "text/x-python",
   "name": "python",
   "nbconvert_exporter": "python",
   "pygments_lexer": "ipython3",
   "version": "3.10.15"
  }
 },
 "nbformat": 4,
 "nbformat_minor": 5
}
