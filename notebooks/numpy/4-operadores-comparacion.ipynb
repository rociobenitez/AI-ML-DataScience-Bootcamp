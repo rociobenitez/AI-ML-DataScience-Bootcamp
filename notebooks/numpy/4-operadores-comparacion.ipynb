{
 "cells": [
  {
   "cell_type": "code",
   "execution_count": 1,
   "id": "6a01fd45-9150-4a72-b254-e1adfcc8164b",
   "metadata": {},
   "outputs": [],
   "source": [
    "import numpy as np"
   ]
  },
  {
   "cell_type": "code",
   "execution_count": 2,
   "id": "6a16cad0-2a29-4996-bc87-f5720a4445a6",
   "metadata": {},
   "outputs": [],
   "source": [
    "a1 = np.array([1, 2, 3])\n",
    "a2 = np.array([[1., 2., 3.3],\n",
    "               [4., 5., 6.5]])"
   ]
  },
  {
   "cell_type": "markdown",
   "id": "7b4d58b9-2875-4ecb-9cff-859a78309b71",
   "metadata": {},
   "source": [
    "## Operadores de comparación"
   ]
  },
  {
   "cell_type": "markdown",
   "id": "6771d20f-4b08-4d70-a722-85772964521d",
   "metadata": {},
   "source": [
    "### Comparaciones básicas"
   ]
  },
  {
   "cell_type": "code",
   "execution_count": 3,
   "id": "55678e60-c4de-443e-b7a5-af60b34850fe",
   "metadata": {},
   "outputs": [
    {
     "data": {
      "text/plain": [
       "(array([1, 2, 3]),\n",
       " array([[1. , 2. , 3.3],\n",
       "        [4. , 5. , 6.5]]))"
      ]
     },
     "execution_count": 3,
     "metadata": {},
     "output_type": "execute_result"
    }
   ],
   "source": [
    "a1, a2"
   ]
  },
  {
   "cell_type": "code",
   "execution_count": 4,
   "id": "d54a11fd-36a0-4c68-84fb-9911a20bb68d",
   "metadata": {},
   "outputs": [
    {
     "data": {
      "text/plain": [
       "array([[False, False, False],\n",
       "       [False, False, False]])"
      ]
     },
     "execution_count": 4,
     "metadata": {},
     "output_type": "execute_result"
    }
   ],
   "source": [
    "a1 > a2 # Comparar elementos entre dos arrays"
   ]
  },
  {
   "cell_type": "code",
   "execution_count": 5,
   "id": "e7c8b6f7-1b21-4ea4-b8dd-4f011e2f525d",
   "metadata": {},
   "outputs": [
    {
     "data": {
      "text/plain": [
       "array([[ True,  True, False],\n",
       "       [False, False, False]])"
      ]
     },
     "execution_count": 5,
     "metadata": {},
     "output_type": "execute_result"
    }
   ],
   "source": [
    "bool_array = a1 >= a2\n",
    "bool_array"
   ]
  },
  {
   "cell_type": "code",
   "execution_count": 6,
   "id": "85bb301c-ca94-402c-b6eb-dd4274a8b432",
   "metadata": {},
   "outputs": [
    {
     "data": {
      "text/plain": [
       "(numpy.ndarray, dtype('bool'))"
      ]
     },
     "execution_count": 6,
     "metadata": {},
     "output_type": "execute_result"
    }
   ],
   "source": [
    "type(bool_array), bool_array.dtype"
   ]
  },
  {
   "cell_type": "code",
   "execution_count": 7,
   "id": "c9301ee1-1606-4e83-8b1e-b37fc5180bd6",
   "metadata": {},
   "outputs": [
    {
     "data": {
      "text/plain": [
       "array([False, False, False])"
      ]
     },
     "execution_count": 7,
     "metadata": {},
     "output_type": "execute_result"
    }
   ],
   "source": [
    "a1 > 5 # Comparar si los elementos de un array cumplen una condición"
   ]
  },
  {
   "cell_type": "code",
   "execution_count": 8,
   "id": "c7bbfda7-3d6a-4ff4-bea6-1a24a063e519",
   "metadata": {},
   "outputs": [
    {
     "data": {
      "text/plain": [
       "array([[ True,  True, False],\n",
       "       [False, False, False]])"
      ]
     },
     "execution_count": 8,
     "metadata": {},
     "output_type": "execute_result"
    }
   ],
   "source": [
    "a1 == a2 # Comparar elementos entre dos arrays"
   ]
  },
  {
   "cell_type": "markdown",
   "id": "5bf83775-3e04-4f1e-bd66-7c87cb80d4c4",
   "metadata": {},
   "source": [
    "### Aplicaciones prácticas"
   ]
  },
  {
   "cell_type": "code",
   "execution_count": 9,
   "id": "eac939a5-fe5a-4120-9f61-0c6b04721afb",
   "metadata": {},
   "outputs": [
    {
     "data": {
      "text/plain": [
       "array([3.3, 4. , 5. , 6.5])"
      ]
     },
     "execution_count": 9,
     "metadata": {},
     "output_type": "execute_result"
    }
   ],
   "source": [
    "# Filtrar datos en un array\n",
    "filtered = a2[a2 > 2] # Extraer elementos que cumplan ciertas condiciones\n",
    "filtered"
   ]
  },
  {
   "cell_type": "code",
   "execution_count": 10,
   "id": "427499be-5632-4377-8fe0-037f9e0c0cb1",
   "metadata": {},
   "outputs": [
    {
     "data": {
      "text/plain": [
       "array([[False, False,  True],\n",
       "       [ True,  True, False]])"
      ]
     },
     "execution_count": 10,
     "metadata": {},
     "output_type": "execute_result"
    }
   ],
   "source": [
    "# Comparaciones múltiples\n",
    "result = (a2 > 2) & (a2 < 6) # Combina múltiples condiciones usando operadores lógicos\n",
    "result"
   ]
  },
  {
   "cell_type": "code",
   "execution_count": 11,
   "id": "d2fc4e91-6195-45a2-b1f0-0600e7aa7033",
   "metadata": {},
   "outputs": [
    {
     "name": "stdout",
     "output_type": "stream",
     "text": [
      "False\n",
      "True\n"
     ]
    }
   ],
   "source": [
    "# Comparar si todos o algún elemento cumple una condición:\n",
    "print(np.all(a2 > 3)) # verifica si todos los elementos cumplen una condición\n",
    "print(np.any(a2 > 3)) # verifica si algún elemento cumplen una condición"
   ]
  },
  {
   "cell_type": "markdown",
   "id": "5215cb79-c53c-4f08-bd6a-76319d7953fc",
   "metadata": {},
   "source": [
    "> **Notas clave**\n",
    "> - El resultado de las comparaciones es un array booleano del mismo tamaño que el array original.\n",
    "> - Los operadores (`>`, `<`, `>=`, `<=`, `==`, `!=`) funcionan de manera nativa con arrays de NumPy."
   ]
  }
 ],
 "metadata": {
  "kernelspec": {
   "display_name": "Python (env)",
   "language": "python",
   "name": "env"
  },
  "language_info": {
   "codemirror_mode": {
    "name": "ipython",
    "version": 3
   },
   "file_extension": ".py",
   "mimetype": "text/x-python",
   "name": "python",
   "nbconvert_exporter": "python",
   "pygments_lexer": "ipython3",
   "version": "3.10.15"
  }
 },
 "nbformat": 4,
 "nbformat_minor": 5
}
