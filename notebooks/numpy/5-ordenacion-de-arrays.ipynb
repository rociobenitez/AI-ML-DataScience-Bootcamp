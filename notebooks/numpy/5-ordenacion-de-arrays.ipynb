{
 "cells": [
  {
   "cell_type": "markdown",
   "id": "bd72e888-2c11-4ceb-8c48-eb150501c510",
   "metadata": {},
   "source": [
    "## Sorting arrays - Ordenación de Arrays"
   ]
  },
  {
   "cell_type": "code",
   "execution_count": 1,
   "id": "b8ff5833-167a-4ded-b3f8-b6064d9fde5c",
   "metadata": {},
   "outputs": [],
   "source": [
    "import numpy as np"
   ]
  },
  {
   "cell_type": "code",
   "execution_count": 2,
   "id": "27fe0830-864d-4b5e-bb31-235f306f4d46",
   "metadata": {},
   "outputs": [
    {
     "data": {
      "text/plain": [
       "array([[9, 1, 2, 4, 8],\n",
       "       [0, 5, 6, 1, 8],\n",
       "       [7, 0, 4, 3, 8]])"
      ]
     },
     "execution_count": 2,
     "metadata": {},
     "output_type": "execute_result"
    }
   ],
   "source": [
    "random_array = np.random.randint(10, size=(3,5))\n",
    "random_array"
   ]
  },
  {
   "cell_type": "code",
   "execution_count": 3,
   "id": "4194a6e5-6a9c-42a3-a0e2-b3891daed4ff",
   "metadata": {},
   "outputs": [
    {
     "data": {
      "text/plain": [
       "array([[1, 2, 4, 8, 9],\n",
       "       [0, 1, 5, 6, 8],\n",
       "       [0, 3, 4, 7, 8]])"
      ]
     },
     "execution_count": 3,
     "metadata": {},
     "output_type": "execute_result"
    }
   ],
   "source": [
    "# Ordenar los números de un array\n",
    "np.sort(random_array) # devuelve una copia ordenada de una matriz (en cada eje)"
   ]
  },
  {
   "cell_type": "code",
   "execution_count": 4,
   "id": "df68669b-5fe9-4787-bc46-7e5e41880e4d",
   "metadata": {},
   "outputs": [
    {
     "data": {
      "text/plain": [
       "array([[1, 2, 3, 4, 0],\n",
       "       [0, 3, 1, 2, 4],\n",
       "       [1, 3, 2, 0, 4]])"
      ]
     },
     "execution_count": 4,
     "metadata": {},
     "output_type": "execute_result"
    }
   ],
   "source": [
    "# Ordena los índices del array\n",
    "sorted_indices = np.argsort(random_array) # devuelve los índices que ordenarían el array\n",
    "sorted_indices"
   ]
  },
  {
   "cell_type": "code",
   "execution_count": 5,
   "id": "9404fe6d-26cb-488d-9476-d566e9747af4",
   "metadata": {},
   "outputs": [],
   "source": [
    "# Podemos usar los índices para reordenar un array manualmente\n",
    "a1 = np.array([1, 2, 3])"
   ]
  },
  {
   "cell_type": "markdown",
   "id": "2723290c-3dce-4115-905d-53ae31f5d53c",
   "metadata": {},
   "source": [
    "### Obtener valores máximos y mínimos"
   ]
  },
  {
   "cell_type": "code",
   "execution_count": 6,
   "id": "fce940af-70a2-4dd6-a73b-5d1091e5084e",
   "metadata": {},
   "outputs": [
    {
     "data": {
      "text/plain": [
       "0"
      ]
     },
     "execution_count": 6,
     "metadata": {},
     "output_type": "execute_result"
    }
   ],
   "source": [
    "np.argmin(a1)"
   ]
  },
  {
   "cell_type": "code",
   "execution_count": 7,
   "id": "32fcc271-e897-4cbb-99a8-8cb137e0273e",
   "metadata": {},
   "outputs": [
    {
     "data": {
      "text/plain": [
       "2"
      ]
     },
     "execution_count": 7,
     "metadata": {},
     "output_type": "execute_result"
    }
   ],
   "source": [
    "np.argmax(a1)"
   ]
  },
  {
   "cell_type": "code",
   "execution_count": 8,
   "id": "dba852de-0fd0-4e02-9187-2b3bb61f80e2",
   "metadata": {},
   "outputs": [
    {
     "data": {
      "text/plain": [
       "array([0, 1, 1, 0, 0])"
      ]
     },
     "execution_count": 8,
     "metadata": {},
     "output_type": "execute_result"
    }
   ],
   "source": [
    "np.argmax(random_array, axis=0)"
   ]
  },
  {
   "cell_type": "markdown",
   "id": "e9a6cea4-1b92-41b9-b374-a441dace5bea",
   "metadata": {},
   "source": [
    "- La fila 1 tiene el número más alto en la primera columna\n",
    "- La fila 0 tiene el número más alto en la segunda columna\n",
    "- La fila 1 tiene el número más alto en la tercera columna\n",
    "- La fila 1 tiene el número más algo en la cuarta columna\n",
    "- La fila 2 tiene el número más alto en la quinta columna"
   ]
  },
  {
   "cell_type": "code",
   "execution_count": 9,
   "id": "0639dcc1-fc3c-40b8-a62a-16623bed4c98",
   "metadata": {},
   "outputs": [
    {
     "data": {
      "text/plain": [
       "array([0, 4, 4])"
      ]
     },
     "execution_count": 9,
     "metadata": {},
     "output_type": "execute_result"
    }
   ],
   "source": [
    "np.argmax(random_array, axis=1)"
   ]
  },
  {
   "cell_type": "markdown",
   "id": "a5444852-c7bf-415d-b31e-2644cfb54848",
   "metadata": {},
   "source": [
    "- La posición 2 de la primera fila es el valor más alto de esa fila\n",
    "- La posición 2 de la segunda fila es el valor más alto de esa fila\n",
    "- La posición 4 de la tercera fila es el valor más alto de esa fila"
   ]
  }
 ],
 "metadata": {
  "kernelspec": {
   "display_name": "Python (env)",
   "language": "python",
   "name": "env"
  },
  "language_info": {
   "codemirror_mode": {
    "name": "ipython",
    "version": 3
   },
   "file_extension": ".py",
   "mimetype": "text/x-python",
   "name": "python",
   "nbconvert_exporter": "python",
   "pygments_lexer": "ipython3",
   "version": "3.10.15"
  }
 },
 "nbformat": 4,
 "nbformat_minor": 5
}
